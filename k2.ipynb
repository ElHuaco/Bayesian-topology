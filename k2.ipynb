{
 "cells": [
  {
   "cell_type": "markdown",
   "id": "049d37f7",
   "metadata": {},
   "source": [
    "# Learning the topology of a Bayesian Network from a database of cases using the K2 algorithm\n",
    "***"
   ]
  },
  {
   "cell_type": "markdown",
   "id": "aba929c0",
   "metadata": {},
   "source": [
    "Inputs to the Algorithm: <br>\n",
    "1. a set of $N$ nodes\n",
    "2. an ordering of the nodes\n",
    "3. upper bound $u$ of possible parents\n",
    "4. database $D$ containing $m$ cases"
   ]
  },
  {
   "cell_type": "markdown",
   "id": "cca79b27",
   "metadata": {},
   "source": [
    "I would split up the code into three functions, one for the iteration over the nodes, one for the probability P and one for alpha.\n",
    "Also I would suggest D to be a Dataframe and to get the number of possible values of a node we just do 'unique'"
   ]
  },
  {
   "cell_type": "code",
   "execution_count": 13,
   "id": "b1296d1c",
   "metadata": {},
   "outputs": [],
   "source": [
    "source('K2.R')\n",
    "library(dplyr)"
   ]
  },
  {
   "cell_type": "code",
   "execution_count": 14,
   "id": "cbbfc644",
   "metadata": {},
   "outputs": [
    {
     "name": "stdout",
     "output_type": "stream",
     "text": [
      "   x1 x2 x3\n",
      "1   1  0  0\n",
      "2   1  1  1\n",
      "3   0  0  1\n",
      "4   1  1  1\n",
      "5   0  0  0\n",
      "6   0  1  1\n",
      "7   1  1  1\n",
      "8   0  0  0\n",
      "9   1  1  1\n",
      "10  0  0  0\n"
     ]
    }
   ],
   "source": [
    "#create dataframe\n",
    "x1 <- c(1,1,0,1,0,0,1,0,1,0)\n",
    "x2 <- c(0,1,0,1,0,1,1,0,1,0)\n",
    "x3<- c(0,1,1,1,0,1,1,0,1,0)\n",
    "D <- data.frame(x1, x2, x3)\n",
    "print(D)"
   ]
  },
  {
   "cell_type": "code",
   "execution_count": 18,
   "id": "a4b1b7e7",
   "metadata": {},
   "outputs": [
    {
     "data": {
      "text/html": [
       "0.0025"
      ],
      "text/latex": [
       "0.0025"
      ],
      "text/markdown": [
       "0.0025"
      ],
      "text/plain": [
       "[1] 0.0025"
      ]
     },
     "metadata": {},
     "output_type": "display_data"
    }
   ],
   "source": [
    "probability(D, 3, c(1,2))"
   ]
  },
  {
   "cell_type": "code",
   "execution_count": null,
   "id": "22603607",
   "metadata": {},
   "outputs": [],
   "source": []
  }
 ],
 "metadata": {
  "kernelspec": {
   "display_name": "R",
   "language": "R",
   "name": "ir"
  },
  "language_info": {
   "codemirror_mode": "r",
   "file_extension": ".r",
   "mimetype": "text/x-r-source",
   "name": "R",
   "pygments_lexer": "r",
   "version": "4.0.5"
  }
 },
 "nbformat": 4,
 "nbformat_minor": 5
}
